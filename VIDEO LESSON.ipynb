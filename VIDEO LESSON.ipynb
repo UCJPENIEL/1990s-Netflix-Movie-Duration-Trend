{
 "cells": [
  {
   "cell_type": "code",
   "execution_count": null,
   "id": "3ae5da47-f9b5-4f95-9f14-d6aac6af25dd",
   "metadata": {},
   "outputs": [],
   "source": []
  },
  {
   "cell_type": "code",
   "execution_count": 5,
   "id": "ef041315-9848-4389-8cb9-41f29bcfe0c1",
   "metadata": {},
   "outputs": [
    {
     "name": "stdout",
     "output_type": "stream",
     "text": [
      "     country food_category  consumption  co2_emission\n",
      "0  Argentina          None        10.51           NaN\n",
      "1  Argentina       poultry        38.66         41.53\n",
      "2  Argentina          None          NaN       1712.00\n",
      "3  Argentina     lamb_goat          NaN           NaN\n",
      "4  Argentina          fish         4.36          6.96\n"
     ]
    }
   ],
   "source": [
    "# Import liberaries\n",
    "import pandas as pd\n",
    "import numpy as np\n",
    "import matplotlib.pyplot as plt\n",
    "import seaborn as sns\n",
    "\n",
    "# Define your data as a list of dictionaries\n",
    "food_consumption = [\n",
    "    {'country': 'Argentina', 'food_category': None, 'consumption': 10.51, 'co2_emission': None},\n",
    "    {'country': 'Argentina', 'food_category': 'poultry', 'consumption': 38.66, 'co2_emission': 41.53},\n",
    "    {'country': 'Argentina', 'food_category': None, 'consumption': None, 'co2_emission': 1712},\n",
    "    {'country': 'Argentina', 'food_category': 'lamb_goat', 'consumption': None, 'co2_emission': None},\n",
    "    {'country': 'Argentina', 'food_category': 'fish', 'consumption': 4.36, 'co2_emission': 6.96}\n",
    "]\n",
    "\n",
    "# Create the DataFrame\n",
    "food = pd.DataFrame(food_consumption)\n",
    "print(food)"
   ]
  },
  {
   "cell_type": "code",
   "execution_count": 21,
   "id": "866f7983-2f55-4d98-beb3-2ab187415b82",
   "metadata": {},
   "outputs": [
    {
     "name": "stdout",
     "output_type": "stream",
     "text": [
      "consumption      17.843333\n",
      "co2_emission    586.830000\n",
      "dtype: float64\n",
      "     country food_category  consumption  co2_emission\n",
      "0  Argentina          None    10.510000        586.83\n",
      "1  Argentina       poultry    38.660000         41.53\n",
      "2  Argentina          None    17.843333       1712.00\n",
      "3  Argentina     lamb_goat    17.843333        586.83\n",
      "4  Argentina          fish     4.360000          6.96\n",
      "     country food_category  consumption  co2_emission\n",
      "0  Argentina       unknown    10.510000        586.83\n",
      "1  Argentina       poultry    38.660000         41.53\n",
      "2  Argentina       unknown    17.843333       1712.00\n",
      "3  Argentina     lamb_goat    17.843333        586.83\n",
      "4  Argentina          fish     4.360000          6.96\n"
     ]
    }
   ],
   "source": [
    "mean_value = food[['consumption', 'co2_emission']].mean()\n",
    "print(mean_value) \n",
    "food[['consumption', 'co2_emission']] = food[['consumption', 'co2_emission']].fillna(mean_value)\n",
    "print(food)\n",
    "food['food_category'] = food['food_category'].fillna('unknown')\n",
    "print(food)"
   ]
  },
  {
   "cell_type": "code",
   "execution_count": 16,
   "id": "cebd120b-6e17-475c-9646-54bac84b09e2",
   "metadata": {},
   "outputs": [
    {
     "name": "stdout",
     "output_type": "stream",
     "text": [
      "Axes(0.125,0.11;0.775x0.77)\n",
      "consumption      17.843333\n",
      "co2_emission    586.830000\n",
      "dtype: float64\n",
      "     country food_category  consumption  co2_emission\n",
      "0  Argentina          None    10.510000        586.83\n",
      "1  Argentina       poultry    38.660000         41.53\n",
      "2  Argentina          None    17.843333       1712.00\n",
      "3  Argentina     lamb_goat    17.843333        586.83\n",
      "4  Argentina          fish     4.360000          6.96\n"
     ]
    },
    {
     "data": {
      "image/png": "[encoded data removed]",
      "text/plain": [
       "<Figure size 640x480 with 1 Axes>"
      ]
     },
     "metadata": {},
     "output_type": "display_data"
    }
   ],
   "source": []
  },
  {
   "cell_type": "code",
   "execution_count": null,
   "id": "03ebdfe6-7229-496f-8c0a-f8adb65f2d36",
   "metadata": {},
   "outputs": [],
   "source": []
  },
  {
   "cell_type": "code",
   "execution_count": null,
   "id": "591fd39b-9909-4d2c-a830-5411afc04116",
   "metadata": {},
   "outputs": [],
   "source": []
  }
 ],
 "metadata": {
  "kernelspec": {
   "display_name": "Python [conda env:base] *",
   "language": "python",
   "name": "conda-base-py"
  },
  "language_info": {
   "codemirror_mode": {
    "name": "ipython",
    "version": 3
   },
   "file_extension": ".py",
   "mimetype": "text/x-python",
   "name": "python",
   "nbconvert_exporter": "python",
   "pygments_lexer": "ipython3",
   "version": "3.12.7"
  }
 },
 "nbformat": 4,
 "nbformat_minor": 5
}
