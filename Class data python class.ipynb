{
 "cells": [
  {
   "cell_type": "markdown",
   "id": "163c83cd-c7a3-4abc-865c-d8ef45655d2e",
   "metadata": {},
   "source": [
    "## Exploratory Data Analysis\n",
    "#### Let's say we've got a new dataset about books. Is this good data? What questions can it answer for us? It's only after we understand what our data contains that we can think about how the data might be useful to us. Exploratory Data Analysis, or EDA for short, is the process of cleaning and reviewing data to derive insights such as descriptive statistics and correlation and generate hypotheses for experiments. EDA results often inform the next steps for the dataset, whether that be generating hypotheses, preparing the data for use in a machine learning model, or even throwing the data out and gathering new data!"
   ]
  },
  {
   "cell_type": "markdown",
   "id": "f2621e10-683c-42e2-8b2f-50d70e2b5aaf",
   "metadata": {},
   "source": [
    "## A first look with .head()                                     \n",
    "#### Let's begin by importing a dataset and reviewing some useful pandas methods for initial exploration! We'll import the books data from a csv file using pd.read_csv and save it as a DataFrame called \"books\". Taking a look at the top of the DataFrame using the head function, we can see that our data contains columns representing book names, authors, ratings, publishing years, and genres."
   ]
  },
  {
   "cell_type": "code",
   "execution_count": 20,
   "id": "227b347d-e9f8-4257-b07e-d98a77eddbfb",
   "metadata": {},
   "outputs": [],
   "source": [
    "# importing liberaries\n",
    "import pandas as pd\n",
    "import numpy as np\n",
    "import matplotlib.pyplot as plt\n",
    "import seaborn as sns"
   ]
  },
  {
   "cell_type": "code",
   "execution_count": 21,
   "id": "de7ce54c-d126-4ff2-9bc1-d8647b9f8104",
   "metadata": {},
   "outputs": [
    {
     "data": {
      "text/html": [
       "<div>\n",
       "<style scoped>\n",
       "    .dataframe tbody tr th:only-of-type {\n",
       "        vertical-align: middle;\n",
       "    }\n",
       "\n",
       "    .dataframe tbody tr th {\n",
       "        vertical-align: top;\n",
       "    }\n",
       "\n",
       "    .dataframe thead th {\n",
       "        text-align: right;\n",
       "    }\n",
       "</style>\n",
       "<table border=\"1\" class=\"dataframe\">\n",
       "  <thead>\n",
       "    <tr style=\"text-align: right;\">\n",
       "      <th></th>\n",
       "      <th>name</th>\n",
       "      <th>author</th>\n",
       "      <th>rating</th>\n",
       "      <th>year</th>\n",
       "      <th>genre</th>\n",
       "    </tr>\n",
       "  </thead>\n",
       "  <tbody>\n",
       "    <tr>\n",
       "      <th>0</th>\n",
       "      <td>10-Day Green Smoothie Cleanse</td>\n",
       "      <td>JJ Smith</td>\n",
       "      <td>4.7</td>\n",
       "      <td>2016</td>\n",
       "      <td>Non Fiction</td>\n",
       "    </tr>\n",
       "    <tr>\n",
       "      <th>1</th>\n",
       "      <td>11/22/63: A Novel</td>\n",
       "      <td>Stephen King</td>\n",
       "      <td>4.6</td>\n",
       "      <td>2011</td>\n",
       "      <td>Fiction</td>\n",
       "    </tr>\n",
       "    <tr>\n",
       "      <th>2</th>\n",
       "      <td>12 Rules for Life: An Antidote to Chaos</td>\n",
       "      <td>Jordan B. Peterson</td>\n",
       "      <td>4.7</td>\n",
       "      <td>2018</td>\n",
       "      <td>Non Fiction</td>\n",
       "    </tr>\n",
       "    <tr>\n",
       "      <th>3</th>\n",
       "      <td>1984 (Signet Classics)</td>\n",
       "      <td>George Orwell</td>\n",
       "      <td>4.7</td>\n",
       "      <td>2017</td>\n",
       "      <td>Fiction</td>\n",
       "    </tr>\n",
       "    <tr>\n",
       "      <th>4</th>\n",
       "      <td>5,000 Awesome Facts (About Everything!) (Natio...</td>\n",
       "      <td>National Geographic Kids</td>\n",
       "      <td>4.8</td>\n",
       "      <td>2019</td>\n",
       "      <td>Childrens</td>\n",
       "    </tr>\n",
       "  </tbody>\n",
       "</table>\n",
       "</div>"
      ],
      "text/plain": [
       "                                                name  \\\n",
       "0                      10-Day Green Smoothie Cleanse   \n",
       "1                                  11/22/63: A Novel   \n",
       "2            12 Rules for Life: An Antidote to Chaos   \n",
       "3                             1984 (Signet Classics)   \n",
       "4  5,000 Awesome Facts (About Everything!) (Natio...   \n",
       "\n",
       "                     author  rating  year        genre  \n",
       "0                  JJ Smith     4.7  2016  Non Fiction  \n",
       "1              Stephen King     4.6  2011      Fiction  \n",
       "2        Jordan B. Peterson     4.7  2018  Non Fiction  \n",
       "3             George Orwell     4.7  2017      Fiction  \n",
       "4  National Geographic Kids     4.8  2019    Childrens  "
      ]
     },
     "execution_count": 21,
     "metadata": {},
     "output_type": "execute_result"
    }
   ],
   "source": [
    "books = pd.read_csv(r\"C:\\Users\\NEW USER\\anaconda_projects\\clean_books.csv\")\n",
    "books.head()"
   ]
  },
  {
   "cell_type": "markdown",
   "id": "cb9ba37e-7f1b-4f55-a3c1-e2e454923afa",
   "metadata": {},
   "source": [
    "## Gathering more .info()                                       \n",
    "#### pandas also offers a quick way to summarize the number of missing values in each column, the data type of each column, and memory usage using the .info method. It looks like there are no missing values in our dataset, but it does have a variety of data types."
   ]
  },
  {
   "cell_type": "code",
   "execution_count": 22,
   "id": "9c0f7697-8163-4f54-812c-bb01d3e8ac44",
   "metadata": {},
   "outputs": [
    {
     "name": "stdout",
     "output_type": "stream",
     "text": [
      "<class 'pandas.core.frame.DataFrame'>\n",
      "RangeIndex: 350 entries, 0 to 349\n",
      "Data columns (total 5 columns):\n",
      " #   Column  Non-Null Count  Dtype  \n",
      "---  ------  --------------  -----  \n",
      " 0   name    350 non-null    object \n",
      " 1   author  350 non-null    object \n",
      " 2   rating  350 non-null    float64\n",
      " 3   year    350 non-null    int64  \n",
      " 4   genre   350 non-null    object \n",
      "dtypes: float64(1), int64(1), object(3)\n",
      "memory usage: 13.8+ KB\n"
     ]
    }
   ],
   "source": [
    "books.info()"
   ]
  },
  {
   "cell_type": "markdown",
   "id": "aff5054b-91c2-4f8a-b5c5-3aad5227c585",
   "metadata": {},
   "source": [
    "## A closer look at categorical columns                               \n",
    "#### A common question about categorical columns in a dataset is how many data points we have in each category. For example, perhaps we're interested in the genres represented in our books data. We can select the genre column and use the pandas Series method .value_counts to find the number of books with each genre."
   ]
  },
  {
   "cell_type": "code",
   "execution_count": 23,
   "id": "27fd2ad0-65f1-4e04-97a3-b88ce67615df",
   "metadata": {},
   "outputs": [
    {
     "data": {
      "text/plain": [
       "genre\n",
       "Non Fiction    179\n",
       "Fiction        131\n",
       "Childrens       40\n",
       "Name: count, dtype: int64"
      ]
     },
     "execution_count": 23,
     "metadata": {},
     "output_type": "execute_result"
    }
   ],
   "source": [
    "books.value_counts(\"genre\")"
   ]
  },
  {
   "cell_type": "markdown",
   "id": "c50c5507-1f48-44b5-bd59-612ea1bdb0eb",
   "metadata": {},
   "source": [
    "## .describe() numerical columns\n",
    "#### Gaining a quick understanding of data included in numerical columns is done with the help of the DataFrame.describe method. Calling .describe on books, we see that it returns the count, mean, and standard deviation of the values in each numerical column (in this case rating and year), along with the min, max, and quartile values."
   ]
  },
  {
   "cell_type": "code",
   "execution_count": 24,
   "id": "1c9841e0-0ae3-4d79-b99e-c59fdcc937bb",
   "metadata": {},
   "outputs": [
    {
     "data": {
      "text/html": [
       "<div>\n",
       "<style scoped>\n",
       "    .dataframe tbody tr th:only-of-type {\n",
       "        vertical-align: middle;\n",
       "    }\n",
       "\n",
       "    .dataframe tbody tr th {\n",
       "        vertical-align: top;\n",
       "    }\n",
       "\n",
       "    .dataframe thead th {\n",
       "        text-align: right;\n",
       "    }\n",
       "</style>\n",
       "<table border=\"1\" class=\"dataframe\">\n",
       "  <thead>\n",
       "    <tr style=\"text-align: right;\">\n",
       "      <th></th>\n",
       "      <th>rating</th>\n",
       "      <th>year</th>\n",
       "    </tr>\n",
       "  </thead>\n",
       "  <tbody>\n",
       "    <tr>\n",
       "      <th>count</th>\n",
       "      <td>350.000000</td>\n",
       "      <td>350.000000</td>\n",
       "    </tr>\n",
       "    <tr>\n",
       "      <th>mean</th>\n",
       "      <td>4.608571</td>\n",
       "      <td>2013.508571</td>\n",
       "    </tr>\n",
       "    <tr>\n",
       "      <th>std</th>\n",
       "      <td>0.226941</td>\n",
       "      <td>3.284711</td>\n",
       "    </tr>\n",
       "    <tr>\n",
       "      <th>min</th>\n",
       "      <td>3.300000</td>\n",
       "      <td>2009.000000</td>\n",
       "    </tr>\n",
       "    <tr>\n",
       "      <th>25%</th>\n",
       "      <td>4.500000</td>\n",
       "      <td>2010.000000</td>\n",
       "    </tr>\n",
       "    <tr>\n",
       "      <th>50%</th>\n",
       "      <td>4.600000</td>\n",
       "      <td>2013.000000</td>\n",
       "    </tr>\n",
       "    <tr>\n",
       "      <th>75%</th>\n",
       "      <td>4.800000</td>\n",
       "      <td>2016.000000</td>\n",
       "    </tr>\n",
       "    <tr>\n",
       "      <th>max</th>\n",
       "      <td>4.900000</td>\n",
       "      <td>2019.000000</td>\n",
       "    </tr>\n",
       "  </tbody>\n",
       "</table>\n",
       "</div>"
      ],
      "text/plain": [
       "           rating         year\n",
       "count  350.000000   350.000000\n",
       "mean     4.608571  2013.508571\n",
       "std      0.226941     3.284711\n",
       "min      3.300000  2009.000000\n",
       "25%      4.500000  2010.000000\n",
       "50%      4.600000  2013.000000\n",
       "75%      4.800000  2016.000000\n",
       "max      4.900000  2019.000000"
      ]
     },
     "execution_count": 24,
     "metadata": {},
     "output_type": "execute_result"
    }
   ],
   "source": [
    "books.describe()"
   ]
  },
  {
   "cell_type": "markdown",
   "id": "5c201b50-9551-4b70-a04d-9704200e6333",
   "metadata": {},
   "source": [
    "## Visualizing numerical data\n",
    "#### Histograms are a classic way to look at the distribution of numerical data by splitting numerical values into discrete bins and visualizing the count of values in each bin. Throughout this course, we'll use Seaborn to explore datasets visually. Seaborn is imported as s-n-s. We'll also import matplotlib.pyplot aliased as plt. To create a histogram, we'll use sns.histplot and pass the books DataFrame as the data argument. Next, we indicate which column we'd like to use as x by passing the column name rating to the x keyword argument. After running plt.show to display the plot, we see that most books received ratings above 4.4, with very few getting ratings below 4.0. However, the bin size here is a little awkward. Ideally, we would have a bin for each tenth of a rating, such as a single bin for scores greater than 4.5 to 4.6 inclusive."
   ]
  },
  {
   "cell_type": "code",
   "execution_count": 25,
   "id": "eeef5a76-7ed7-470a-a946-62eb74f93bbf",
   "metadata": {},
   "outputs": [
    {
     "data": {
      "image/png": "[encoded data removed]",
      "text/plain": [
       "<Figure size 640x480 with 1 Axes>"
      ]
     },
     "metadata": {},
     "output_type": "display_data"
    }
   ],
   "source": [
    "sns.histplot(data = books, x= \"rating\")\n",
    "plt.show()"
   ]
  },
  {
   "cell_type": "markdown",
   "id": "8625d21c-b1f1-4546-9f03-067bdd0ff5a2",
   "metadata": {},
   "source": [
    "## Adjusting bin width\n",
    "#### We can set a bin width of 0.1 using the binwidth keyword argument. That's better!"
   ]
  },
  {
   "cell_type": "code",
   "execution_count": 26,
   "id": "9edc5a26-1ede-4b00-aedd-0cf32cc8ff0c",
   "metadata": {},
   "outputs": [
    {
     "data": {
      "image/png": "[encoded data removed]",
      "text/plain": [
       "<Figure size 640x480 with 1 Axes>"
      ]
     },
     "metadata": {},
     "output_type": "display_data"
    }
   ],
   "source": [
    "sns.histplot(data = books, x= \"rating\", binwidth = .1)\n",
    "plt.show()"
   ]
  },
  {
   "cell_type": "markdown",
   "id": "016eb2fb-a63e-4421-9a55-711154c128db",
   "metadata": {},
   "source": [
    "## Data validation\n",
    "#### Data validation is an important early step in EDA. We want to understand whether data types and ranges are as expected before we progress too far in our analysis! Let's dive in."
   ]
  },
  {
   "cell_type": "code",
   "execution_count": 27,
   "id": "5b940fab-2d60-4cef-bb58-92a364ccf99d",
   "metadata": {},
   "outputs": [
    {
     "name": "stdout",
     "output_type": "stream",
     "text": [
      "<class 'pandas.core.frame.DataFrame'>\n",
      "RangeIndex: 350 entries, 0 to 349\n",
      "Data columns (total 5 columns):\n",
      " #   Column  Non-Null Count  Dtype  \n",
      "---  ------  --------------  -----  \n",
      " 0   name    350 non-null    object \n",
      " 1   author  350 non-null    object \n",
      " 2   rating  350 non-null    float64\n",
      " 3   year    350 non-null    int64  \n",
      " 4   genre   350 non-null    object \n",
      "dtypes: float64(1), int64(1), object(3)\n",
      "memory usage: 13.8+ KB\n"
     ]
    },
    {
     "data": {
      "text/plain": [
       "name       object\n",
       "author     object\n",
       "rating    float64\n",
       "year        int64\n",
       "genre      object\n",
       "dtype: object"
      ]
     },
     "execution_count": 27,
     "metadata": {},
     "output_type": "execute_result"
    }
   ],
   "source": [
    "books.info()\n",
    "books.dtypes"
   ]
  },
  {
   "cell_type": "markdown",
   "id": "faa04d5c-3efa-4f96-8176-ba2d2bf50ddb",
   "metadata": {},
   "source": [
    "## Validating data types\n",
    "#### We learned in the last lesson that dot-info gives a quick overview of data types included in a dataset along with other information such as the number of non-missing values. We can also use the DataFrame dot-dtypes attribute if we're only interested in data types. But what if we aren't happy with these data types? Here, the year column in the books DataFrame is stored as a float, which doesn't make sense for year data, which should always be a whole number."
   ]
  },
  {
   "cell_type": "code",
   "execution_count": 28,
   "id": "083e0eb1-c2fe-4c64-a335-fe297402d29c",
   "metadata": {},
   "outputs": [
    {
     "data": {
      "text/plain": [
       "name       object\n",
       "author     object\n",
       "rating    float64\n",
       "year        int32\n",
       "genre      object\n",
       "dtype: object"
      ]
     },
     "execution_count": 28,
     "metadata": {},
     "output_type": "execute_result"
    }
   ],
   "source": [
    "books[\"year\"]=books[\"year\"].astype(int)\n",
    "books.dtypes"
   ]
  },
  {
   "cell_type": "markdown",
   "id": "c65b5876-1cca-461f-9fc7-5f79dcf4511a",
   "metadata": {},
   "source": [
    "## Validating categorical data\n",
    "#### We can validate categorical data by comparing values in a column to a list of expected values using dot-isin, which can either be applied to a Series as we'll show here or to an entire DataFrame. Let's check whether the values in the genre column are limited to \"Fiction\" and \"Non Fiction\" by passing these genres as a list of strings to dot-isin. The function returns a Series of the same size and shape as the original but with True and False in place of all values, depending on whether the value from the original Series was included in the list passed to dot-isin. We can see that some values are False."
   ]
  },
  {
   "cell_type": "code",
   "execution_count": 29,
   "id": "8f884b83-d755-435e-9f4e-86df834bc955",
   "metadata": {},
   "outputs": [
    {
     "data": {
      "text/plain": [
       "0       True\n",
       "1       True\n",
       "2       True\n",
       "3       True\n",
       "4      False\n",
       "       ...  \n",
       "345     True\n",
       "346     True\n",
       "347     True\n",
       "348     True\n",
       "349    False\n",
       "Name: genre, Length: 350, dtype: bool"
      ]
     },
     "execution_count": 29,
     "metadata": {},
     "output_type": "execute_result"
    }
   ],
   "source": [
    "books[\"genre\"].isin([\"Fiction\", \"Non Fiction\"])"
   ]
  },
  {
   "cell_type": "markdown",
   "id": "57f14afa-c811-46a5-93b0-442f7fbfb100",
   "metadata": {},
   "source": [
    "## Validating categorical data\n",
    "#### We can also use the tilde operator at the beginning of the code block to invert the True/ False values so that the function returns True if the value is NOT in the list passed to dot-isin."
   ]
  },
  {
   "cell_type": "code",
   "execution_count": 30,
   "id": "d87a517f-a0f3-46bd-a58f-0171cc9cb47f",
   "metadata": {},
   "outputs": [
    {
     "data": {
      "text/plain": [
       "0      False\n",
       "1      False\n",
       "2      False\n",
       "3      False\n",
       "4       True\n",
       "       ...  \n",
       "345    False\n",
       "346    False\n",
       "347    False\n",
       "348    False\n",
       "349     True\n",
       "Name: genre, Length: 350, dtype: bool"
      ]
     },
     "execution_count": 30,
     "metadata": {},
     "output_type": "execute_result"
    }
   ],
   "source": [
    "~books[\"genre\"].isin([\"Fiction\", \"Non Fiction\"])"
   ]
  },
  {
   "cell_type": "markdown",
   "id": "cdc2bb8e-0795-48dd-a613-19d1e5ed0ec4",
   "metadata": {},
   "source": [
    "## Validating categorical data\n",
    "#### And if we're interested in filtering the DataFrame for only values that are in our list, we can use the isin code we just wrote to filter using Boolean indexing!"
   ]
  },
  {
   "cell_type": "code",
   "execution_count": 31,
   "id": "726637e5-2c27-4125-8291-51b76dd41d7b",
   "metadata": {},
   "outputs": [
    {
     "data": {
      "text/html": [
       "<div>\n",
       "<style scoped>\n",
       "    .dataframe tbody tr th:only-of-type {\n",
       "        vertical-align: middle;\n",
       "    }\n",
       "\n",
       "    .dataframe tbody tr th {\n",
       "        vertical-align: top;\n",
       "    }\n",
       "\n",
       "    .dataframe thead th {\n",
       "        text-align: right;\n",
       "    }\n",
       "</style>\n",
       "<table border=\"1\" class=\"dataframe\">\n",
       "  <thead>\n",
       "    <tr style=\"text-align: right;\">\n",
       "      <th></th>\n",
       "      <th>name</th>\n",
       "      <th>author</th>\n",
       "      <th>rating</th>\n",
       "      <th>year</th>\n",
       "      <th>genre</th>\n",
       "    </tr>\n",
       "  </thead>\n",
       "  <tbody>\n",
       "    <tr>\n",
       "      <th>0</th>\n",
       "      <td>10-Day Green Smoothie Cleanse</td>\n",
       "      <td>JJ Smith</td>\n",
       "      <td>4.7</td>\n",
       "      <td>2016</td>\n",
       "      <td>Non Fiction</td>\n",
       "    </tr>\n",
       "    <tr>\n",
       "      <th>1</th>\n",
       "      <td>11/22/63: A Novel</td>\n",
       "      <td>Stephen King</td>\n",
       "      <td>4.6</td>\n",
       "      <td>2011</td>\n",
       "      <td>Fiction</td>\n",
       "    </tr>\n",
       "    <tr>\n",
       "      <th>2</th>\n",
       "      <td>12 Rules for Life: An Antidote to Chaos</td>\n",
       "      <td>Jordan B. Peterson</td>\n",
       "      <td>4.7</td>\n",
       "      <td>2018</td>\n",
       "      <td>Non Fiction</td>\n",
       "    </tr>\n",
       "    <tr>\n",
       "      <th>3</th>\n",
       "      <td>1984 (Signet Classics)</td>\n",
       "      <td>George Orwell</td>\n",
       "      <td>4.7</td>\n",
       "      <td>2017</td>\n",
       "      <td>Fiction</td>\n",
       "    </tr>\n",
       "    <tr>\n",
       "      <th>5</th>\n",
       "      <td>A Dance with Dragons (A Song of Ice and Fire)</td>\n",
       "      <td>George R. R. Martin</td>\n",
       "      <td>4.4</td>\n",
       "      <td>2011</td>\n",
       "      <td>Fiction</td>\n",
       "    </tr>\n",
       "  </tbody>\n",
       "</table>\n",
       "</div>"
      ],
      "text/plain": [
       "                                            name               author  rating  \\\n",
       "0                  10-Day Green Smoothie Cleanse             JJ Smith     4.7   \n",
       "1                              11/22/63: A Novel         Stephen King     4.6   \n",
       "2        12 Rules for Life: An Antidote to Chaos   Jordan B. Peterson     4.7   \n",
       "3                         1984 (Signet Classics)        George Orwell     4.7   \n",
       "5  A Dance with Dragons (A Song of Ice and Fire)  George R. R. Martin     4.4   \n",
       "\n",
       "   year        genre  \n",
       "0  2016  Non Fiction  \n",
       "1  2011      Fiction  \n",
       "2  2018  Non Fiction  \n",
       "3  2017      Fiction  \n",
       "5  2011      Fiction  "
      ]
     },
     "execution_count": 31,
     "metadata": {},
     "output_type": "execute_result"
    }
   ],
   "source": [
    "books[books[\"genre\"].isin([\"Fiction\", \"Non Fiction\"])].head()"
   ]
  },
  {
   "cell_type": "markdown",
   "id": "fd2e432d-cf71-4ad4-af54-37d7cc9a9ef3",
   "metadata": {},
   "source": [
    "## Validating numerical data\n",
    "#### Let's now validate numerical data. We can select and view only the numerical columns in a DataFrame by calling the select_dtypes method and passing \"number\" as the argument."
   ]
  },
  {
   "cell_type": "code",
   "execution_count": 32,
   "id": "a8743a36-873b-4e93-9cf6-895f2891fe61",
   "metadata": {},
   "outputs": [
    {
     "data": {
      "text/html": [
       "<div>\n",
       "<style scoped>\n",
       "    .dataframe tbody tr th:only-of-type {\n",
       "        vertical-align: middle;\n",
       "    }\n",
       "\n",
       "    .dataframe tbody tr th {\n",
       "        vertical-align: top;\n",
       "    }\n",
       "\n",
       "    .dataframe thead th {\n",
       "        text-align: right;\n",
       "    }\n",
       "</style>\n",
       "<table border=\"1\" class=\"dataframe\">\n",
       "  <thead>\n",
       "    <tr style=\"text-align: right;\">\n",
       "      <th></th>\n",
       "      <th>rating</th>\n",
       "      <th>year</th>\n",
       "    </tr>\n",
       "  </thead>\n",
       "  <tbody>\n",
       "    <tr>\n",
       "      <th>0</th>\n",
       "      <td>4.7</td>\n",
       "      <td>2016</td>\n",
       "    </tr>\n",
       "    <tr>\n",
       "      <th>1</th>\n",
       "      <td>4.6</td>\n",
       "      <td>2011</td>\n",
       "    </tr>\n",
       "    <tr>\n",
       "      <th>2</th>\n",
       "      <td>4.7</td>\n",
       "      <td>2018</td>\n",
       "    </tr>\n",
       "    <tr>\n",
       "      <th>3</th>\n",
       "      <td>4.7</td>\n",
       "      <td>2017</td>\n",
       "    </tr>\n",
       "    <tr>\n",
       "      <th>4</th>\n",
       "      <td>4.8</td>\n",
       "      <td>2019</td>\n",
       "    </tr>\n",
       "  </tbody>\n",
       "</table>\n",
       "</div>"
      ],
      "text/plain": [
       "   rating  year\n",
       "0     4.7  2016\n",
       "1     4.6  2011\n",
       "2     4.7  2018\n",
       "3     4.7  2017\n",
       "4     4.8  2019"
      ]
     },
     "execution_count": 32,
     "metadata": {},
     "output_type": "execute_result"
    }
   ],
   "source": [
    "books.select_dtypes(\"number\").head()"
   ]
  },
  {
   "cell_type": "markdown",
   "id": "45b3ece3-8800-4923-b98a-4a2e9e1d8914",
   "metadata": {},
   "source": [
    "## Validating numerical data\n",
    "#### Perhaps we'd like to know the range of years in which the books in our dataset were published. We can check the lowest and highest years by using the dot-min and dot-max functions, respectively. And we can view a more detailed picture of the distribution of year data using Seaborn's boxplot function. The boxplot shows the boundaries of each quartile of year data: as we saw using min and max, the lowest year is 2009 and the highest year is 2019. The 25th and 75th percentiles are 2010 and 2016 and the median year is 2013."
   ]
  },
  {
   "cell_type": "code",
   "execution_count": 33,
   "id": "6c1543d1-284d-474f-a809-9de2e8bf9bc9",
   "metadata": {},
   "outputs": [
    {
     "data": {
      "image/png": "[encoded data removed]",
      "text/plain": [
       "<Figure size 640x480 with 1 Axes>"
      ]
     },
     "metadata": {},
     "output_type": "display_data"
    }
   ],
   "source": [
    "books[\"year\"].min()\n",
    "books[\"year\"].max()\n",
    "sns.boxplot(data=books, x=\"year\")\n",
    "plt.show()"
   ]
  },
  {
   "cell_type": "markdown",
   "id": "d3c60618-541d-4b8f-82ed-05391766a67d",
   "metadata": {},
   "source": [
    "## Validating numerical data\n",
    "#### We can also view the year data grouped by a categorical variable such as genre by setting the y keyword argument. It looks like the children's books in our dataset have slightly later publishing years in general, but the range of years is the same for all genres."
   ]
  },
  {
   "cell_type": "markdown",
   "id": "e5499484-7070-44b0-a555-312f1db1780a",
   "metadata": {},
   "source": [
    "## Validating numerical data\n",
    "#### We can also view the year data grouped by a categorical variable such as genre by setting the y keyword argument. It looks like the children's books in our dataset have slightly later publishing years in general, but the range of years is the same for all genres."
   ]
  },
  {
   "cell_type": "code",
   "execution_count": 34,
   "id": "1cd2d9e1-53bb-47db-b653-4b428b982a84",
   "metadata": {},
   "outputs": [
    {
     "data": {
      "image/png": "[encoded data removed]",
      "text/plain": [
       "<Figure size 640x480 with 1 Axes>"
      ]
     },
     "metadata": {},
     "output_type": "display_data"
    }
   ],
   "source": [
    "sns.boxplot(data=books, x=\"year\", y=\"genre\")\n",
    "plt.show()"
   ]
  },
  {
   "cell_type": "markdown",
   "id": "695b8741",
   "metadata": {},
   "source": [
    "#### Handling Outliers"
   ]
  },
  {
   "cell_type": "code",
   "execution_count": 57,
   "id": "4844730d",
   "metadata": {},
   "outputs": [
    {
     "name": "stdout",
     "output_type": "stream",
     "text": [
      "   Working_Year                 Designation Experience Employment_Status  \\\n",
      "0          2020              Data Scientist        Mid                FT   \n",
      "1          2020  Machine Learning Scientist     Senior                FT   \n",
      "2          2020           Big Data Engineer     Senior                FT   \n",
      "3          2020        Product Data Analyst        Mid                FT   \n",
      "4          2020   Machine Learning Engineer     Senior                FT   \n",
      "\n",
      "  Employee_Location Company_Size  Remote_Working_Ratio  Salary_USD  \n",
      "0                DE            L                     0     76227.0  \n",
      "1                JP            S                     0    248257.0  \n",
      "2                GB            M                    50    104100.0  \n",
      "3                HN            S                     0     19097.0  \n",
      "4                US            L                    50    143225.0  \n",
      "       Working_Year  Remote_Working_Ratio     Salary_USD\n",
      "count    607.000000             607.00000     607.000000\n",
      "mean    2021.405272              70.92257  107225.836903\n",
      "std        0.692133              40.70913   67752.393254\n",
      "min     2020.000000               0.00000    2730.000000\n",
      "25%     2021.000000              50.00000   59893.000000\n",
      "50%     2022.000000             100.00000   96982.000000\n",
      "75%     2022.000000             100.00000  143225.000000\n",
      "max     2022.000000             100.00000  572900.000000\n"
     ]
    },
    {
     "data": {
      "image/png": "[encoded data removed]",
      "text/plain": [
       "<Figure size 640x480 with 1 Axes>"
      ]
     },
     "metadata": {},
     "output_type": "display_data"
    },
    {
     "name": "stdout",
     "output_type": "stream",
     "text": [
      "83332.0\n",
      "-65105.0 268223.0\n",
      "    Experience Employee_Location  Salary_USD\n",
      "25   Executive                US    310321.0\n",
      "33         Mid                US    429675.0\n",
      "63      Senior                US    393392.0\n",
      "97         Mid                US    429675.0\n",
      "157        Mid                US    403895.0\n",
      "225  Executive                US    397211.0\n",
      "252  Executive                US    572900.0\n",
      "482  Executive                US    309366.0\n",
      "519     Senior                US    362837.0\n",
      "523     Senior                US    386708.0\n",
      "       Working_Year  Remote_Working_Ratio     Salary_USD\n",
      "count    597.000000            597.000000     597.000000\n",
      "mean    2021.412060             70.686767  102328.480737\n",
      "std        0.688634             40.797800   55910.790653\n",
      "min     2020.000000              0.000000    2730.000000\n",
      "25%     2021.000000             50.000000   59819.000000\n",
      "50%     2022.000000            100.000000   95483.000000\n",
      "75%     2022.000000            100.000000  141565.000000\n",
      "max     2022.000000            100.000000  263534.000000\n"
     ]
    },
    {
     "data": {
      "image/png": "[encoded data removed]",
      "text/plain": [
       "<Figure size 970x600 with 1 Axes>"
      ]
     },
     "metadata": {},
     "output_type": "display_data"
    },
    {
     "data": {
      "image/png": "[encoded data removed]",
      "text/plain": [
       "<Figure size 1000x600 with 1 Axes>"
      ]
     },
     "metadata": {},
     "output_type": "display_data"
    }
   ],
   "source": [
    "# import dataframe\n",
    "datascience = pd.read_csv(r\"C:\\Users\\NEW USER\\anaconda_projects\\ds_salaries_clean.csv\")\n",
    "print(datascience.head())\n",
    "\n",
    "# Using describe stat function\n",
    "print(datascience.describe())\n",
    "\n",
    "# IQR in boxplot\n",
    "sns.boxplot(data=datascience, y=\"Salary_USD\")\n",
    "plt.show()\n",
    "\n",
    "# Identifying thresholds\n",
    "twenty_fifth = datascience[\"Salary_USD\"].quantile(0.25)\n",
    "seventy_fifth = datascience[\"Salary_USD\"].quantile(0.75)\n",
    "salaries_iqr = seventy_fifth - twenty_fifth\n",
    "print(salaries_iqr)\n",
    "lower_threshold = twenty_fifth - 1.5 * salaries_iqr\n",
    "upper_threshold = seventy_fifth + 1.5 * salaries_iqr\n",
    "print(lower_threshold , upper_threshold)\n",
    "\n",
    "# Subsetting data with outliers\n",
    "datascience_with_outliers = datascience[(datascience[\"Salary_USD\"] < lower_threshold) | \n",
    "                            (datascience[\"Salary_USD\"] > upper_threshold)]\\\n",
    "                            [[\"Experience\", \"Employee_Location\", \"Salary_USD\"]]\n",
    "print(datascience_with_outliers)\n",
    "\n",
    "# Subsetting data without outliers\n",
    "datascience_no_outliers = datascience[(datascience[\"Salary_USD\"] > lower_threshold) & (datascience[\"Salary_USD\"] < upper_threshold)]\n",
    "print(datascience_no_outliers.describe())\n",
    "\n",
    "# Distribution with outliers\n",
    "plt.figure(figsize=(9.7,6))\n",
    "sns.histplot(data=datascience, binwidth=10000, x=\"Salary_USD\")\n",
    "plt.title(\"Distribution of datascience salary With Outliers\")\n",
    "plt.show()\n",
    "\n",
    "# Distribution without outliers\n",
    "plt.figure(figsize=(10,6))\n",
    "sns.histplot(data=datascience_no_outliers, binwidth=10000, x=\"Salary_USD\")\n",
    "plt.title(\"Distribution of datascience salary Without Outliers\")\n",
    "plt.show()"
   ]
  },
  {
   "cell_type": "markdown",
   "id": "54e6d2eb",
   "metadata": {},
   "source": [
    "#### From the descriptive statistics; the maximum salary is more than four times the mean and median.These Seems extreme.!\n",
    "#### From the IQR in box plot; the percentiles are included in box plots, like the one showing salaries of data professionals. The box contains percentiles, and observations considered to be outliers are represented as dblack round circles outside of the box.\n",
    "#### The detection of outliers is an important part of our exploratory data analysis because; These are extreme values and may not accurately represent the data. Additionally, they can skew the mean and standard deviation. If we plan to perform statistical tests or build machine learning models, these will often require data that is normally distributed and not skewed!                  \n",
    "#### The detection of outliers is an important part of our exploratory data analysis because; These are extreme values and may not accurately represent the data. Additionally, they can skew the mean and standard deviation. If we plan to perform statistical tests or build machine learning models, these will often require data that is normally distributed and not skewed!    "
   ]
  }
 ],
 "metadata": {
  "kernelspec": {
   "display_name": "base",
   "language": "python",
   "name": "python3"
  },
  "language_info": {
   "codemirror_mode": {
    "name": "ipython",
    "version": 3
   },
   "file_extension": ".py",
   "mimetype": "text/x-python",
   "name": "python",
   "nbconvert_exporter": "python",
   "pygments_lexer": "ipython3",
   "version": "3.12.7"
  }
 },
 "nbformat": 4,
 "nbformat_minor": 5
}
