{
 "cells": [
  {
   "cell_type": "code",
   "execution_count": null,
   "id": "4844c0d8-2729-4299-90d7-9816970bf59e",
   "metadata": {},
   "outputs": [],
   "source": []
  },
  {
   "cell_type": "code",
   "execution_count": 1,
   "id": "a6135f3b-b0ef-47a3-b34e-821494177962",
   "metadata": {},
   "outputs": [],
   "source": [
    "import numpy as np\n",
    "import pandas as pd\n",
    "import matplotlib.pyplot as plt\n",
    "import seaborn as sns"
   ]
  },
  {
   "cell_type": "code",
   "execution_count": 21,
   "id": "4f2d71b1-c498-4eed-861f-96124886459f",
   "metadata": {},
   "outputs": [
    {
     "name": "stdout",
     "output_type": "stream",
     "text": [
      "Current working directory: C:\\Users\\NEW USER\\anaconda_projects\n",
      "['49950659-38ff-46f1-ac3d-78c7b78e6776', 'db']\n"
     ]
    }
   ],
   "source": [
    "import os\n",
    "os.chdir(r\"C:\\Users\\NEW USER\\anaconda_projects\")\n",
    "print(\"Current working directory:\", os.getcwd())\n",
    "print(os.listdir(r\"C:\\Users\\NEW USER\\anaconda_projects\"))"
   ]
  },
  {
   "cell_type": "code",
   "execution_count": 22,
   "id": "fa463313-0d03-499d-84d9-1a68c5b63456",
   "metadata": {},
   "outputs": [
    {
     "name": "stdout",
     "output_type": "stream",
     "text": [
      "['49950659-38ff-46f1-ac3d-78c7b78e6776', 'db']\n"
     ]
    }
   ],
   "source": [
    "print(os.listdir(r\"C:\\Users\\NEW USER\\anaconda_projects\"))"
   ]
  },
  {
   "cell_type": "code",
   "execution_count": 26,
   "id": "b07bbd01-e0ae-491b-af83-863855f39645",
   "metadata": {},
   "outputs": [
    {
     "name": "stdout",
     "output_type": "stream",
     "text": [
      "      EmpID FirstName    LastName  StartDate   ExitDate  \\\n",
      "0      3427     Uriah     Bridges 2019-09-20        NaT   \n",
      "1      3428     Paula       Small 2023-02-11        NaT   \n",
      "2      3429    Edward        Buck 2018-12-10        NaT   \n",
      "3      3430   Michael     Riordan 2021-06-21        NaT   \n",
      "4      3431   Jasmine       Onque 2019-06-29        NaT   \n",
      "...     ...       ...         ...        ...        ...   \n",
      "2995   3422    Jakobe    Erickson 2022-06-22 2022-08-07   \n",
      "2996   3423    Adyson  Strickland 2020-12-28        NaT   \n",
      "2997   3424   Annabel     Wilkins 2020-12-09 2022-08-04   \n",
      "2998   3425    Kendra       Braun 2019-05-28 2021-10-23   \n",
      "2999   3426     Chace        Kerr 2022-04-27        NaT   \n",
      "\n",
      "                        Title          Supervisor  \\\n",
      "0     Production Technician I        Peter Oneill   \n",
      "1     Production Technician I     Renee Mccormick   \n",
      "2          Area Sales Manager      Crystal Walker   \n",
      "3          Area Sales Manager      Rebekah Wright   \n",
      "4          Area Sales Manager           Jason Kim   \n",
      "...                       ...                 ...   \n",
      "2995  Production Technician I      Bethany Carter   \n",
      "2996  Production Technician I     Caroline Harris   \n",
      "2997  Production Technician I  Mr. James Castillo   \n",
      "2998  Production Technician I       Michael Woods   \n",
      "2999  Production Technician I       Javier Mccall   \n",
      "\n",
      "                              ADEmail BusinessUnit          EmployeeStatus  \\\n",
      "0         uriah.bridges@bilearner.com         CCDR                  Active   \n",
      "1           paula.small@bilearner.com           EW                  Active   \n",
      "2           edward.buck@bilearner.com           PL                  Active   \n",
      "3       michael.riordan@bilearner.com         CCDR                  Active   \n",
      "4         jasmine.onque@bilearner.com          TNS                  Active   \n",
      "...                               ...          ...                     ...   \n",
      "2995    jakobe.erickson@bilearner.com          PYZ        Leave of Absence   \n",
      "2996  adyson.strickland@bilearner.com          SVG                  Active   \n",
      "2997    annabel.wilkins@bilearner.com          TNS  Voluntarily Terminated   \n",
      "2998       kendra.braun@bilearner.com          WBL  Voluntarily Terminated   \n",
      "2999         chace.kerr@bilearner.com          BPC                  Active   \n",
      "\n",
      "      ...               Division                  DOB State  \\\n",
      "0     ...   Finance & Accounting  1969-07-10 00:00:00    MA   \n",
      "1     ...                 Aerial           30-08-1965    MA   \n",
      "2     ...          General - Sga  1991-06-10 00:00:00    MA   \n",
      "3     ...   Finance & Accounting  1998-04-04 00:00:00    ND   \n",
      "4     ...          General - Con           29-08-1969    FL   \n",
      "...   ...                    ...                  ...   ...   \n",
      "2995  ...              Engineers           23-06-1998    MA   \n",
      "2996  ...              Engineers  2001-10-06 00:00:00    MA   \n",
      "2997  ...  Wireline Construction           27-01-1997    MA   \n",
      "2998  ...                 Aerial           28-05-1954    MA   \n",
      "2999  ...       Field Operations  1990-11-09 00:00:00    MA   \n",
      "\n",
      "     JobFunctionDescription GenderCode LocationCode  RaceDesc MaritalDesc  \\\n",
      "0                Accounting     Female        34904     White     Widowed   \n",
      "1                     Labor       Male         6593  Hispanic     Widowed   \n",
      "2                 Assistant       Male         2330  Hispanic     Widowed   \n",
      "3                     Clerk       Male        58782     Other      Single   \n",
      "4                   Laborer     Female        33174     Other     Married   \n",
      "...                     ...        ...          ...       ...         ...   \n",
      "2995        Model Assistant     Female        44500     Other     Widowed   \n",
      "2996               Engineer       Male        35444     Black     Widowed   \n",
      "2997                Laborer       Male         6608     White      Single   \n",
      "2998                Foreman     Female         3807  Hispanic    Divorced   \n",
      "2999   Warehouse Technician     Female        57487     White     Married   \n",
      "\n",
      "     Performance Score Current Employee Rating  \n",
      "0          Fully Meets                       4  \n",
      "1          Fully Meets                       3  \n",
      "2          Fully Meets                       4  \n",
      "3          Fully Meets                       2  \n",
      "4          Fully Meets                       3  \n",
      "...                ...                     ...  \n",
      "2995       Fully Meets                       3  \n",
      "2996       Fully Meets                       3  \n",
      "2997       Fully Meets                       2  \n",
      "2998       Fully Meets                       2  \n",
      "2999       Fully Meets                       2  \n",
      "\n",
      "[3000 rows x 26 columns]\n"
     ]
    }
   ],
   "source": [
    "employee = pd.read_excel(\"employee_data.xlsx\") \n",
    "print(employee)"
   ]
  },
  {
   "cell_type": "code",
   "execution_count": null,
   "id": "76caae95-ef5f-4169-85cf-fc6b057307c2",
   "metadata": {},
   "outputs": [],
   "source": []
  }
 ],
 "metadata": {
  "kernelspec": {
   "display_name": "Python [conda env:base] *",
   "language": "python",
   "name": "conda-base-py"
  },
  "language_info": {
   "codemirror_mode": {
    "name": "ipython",
    "version": 3
   },
   "file_extension": ".py",
   "mimetype": "text/x-python",
   "name": "python",
   "nbconvert_exporter": "python",
   "pygments_lexer": "ipython3",
   "version": "3.12.7"
  }
 },
 "nbformat": 4,
 "nbformat_minor": 5
}
